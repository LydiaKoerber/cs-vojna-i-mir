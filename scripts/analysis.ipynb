{
 "cells": [
  {
   "cell_type": "markdown",
   "metadata": {},
   "source": [
    "# Analysis of Code Switching in Vojna i Mir"
   ]
  },
  {
   "cell_type": "code",
   "execution_count": 45,
   "metadata": {},
   "outputs": [],
   "source": [
    "import ast\n",
    "import os\n",
    "import pandas as pd"
   ]
  },
  {
   "cell_type": "markdown",
   "metadata": {},
   "source": [
    "### Analyze CS types in the different volumes"
   ]
  },
  {
   "cell_type": "code",
   "execution_count": 42,
   "metadata": {},
   "outputs": [
    {
     "name": "stdout",
     "output_type": "stream",
     "text": [
      "cs_Том_1.csv\n",
      "        Unnamed: 0         part      chapter    paragraph     num_sent  \\\n",
      "count  7599.000000  7599.000000  7599.000000  7599.000000  7599.000000   \n",
      "mean   3799.000000     1.929991    10.854718    26.290038     5.263193   \n",
      "std    2193.786681     0.824311     6.742233    22.451934     5.303398   \n",
      "min       0.000000     1.000000     1.000000     0.000000     1.000000   \n",
      "25%    1899.500000     1.000000     5.000000     9.000000     2.000000   \n",
      "50%    3799.000000     2.000000    10.000000    22.000000     4.000000   \n",
      "75%    5698.500000     3.000000    17.000000    38.000000     7.000000   \n",
      "max    7598.000000     3.000000    24.000000   129.000000    33.000000   \n",
      "\n",
      "       num_interturn  num_intersent     len_sent  num_intrasent  \n",
      "count    7599.000000    7599.000000  7599.000000    7599.000000  \n",
      "mean        0.038295       0.029346    17.971707       0.103961  \n",
      "std         0.191919       0.168785    13.842232       0.455129  \n",
      "min         0.000000       0.000000     1.000000       0.000000  \n",
      "25%         0.000000       0.000000     8.000000       0.000000  \n",
      "50%         0.000000       0.000000    14.000000       0.000000  \n",
      "75%         0.000000       0.000000    24.000000       0.000000  \n",
      "max         1.000000       1.000000   126.000000       7.000000  \n",
      "Unnamed: 0       28868601\n",
      "part                14666\n",
      "chapter             82485\n",
      "paragraph          199778\n",
      "num_sent            39995\n",
      "num_interturn         291\n",
      "num_intersent         223\n",
      "len_sent           136567\n",
      "num_intrasent         790\n",
      "embedded              207\n",
      "dtype: int64\n",
      "Total num_interturn: 291\n",
      "Total num_intersent: 223\n",
      "Sentences containing intrasent 483\n",
      "Total num_intrasent: 790\n",
      "Majority language: maj_lang\n",
      "ru        7170\n",
      "non-ru     387\n",
      "equal       42\n",
      "Name: count, dtype: int64\n",
      "Embedded: embedded\n",
      "False    7392\n",
      "True      207\n",
      "Name: count, dtype: int64\n",
      "cs_Том_2.csv\n",
      "        Unnamed: 0         part      chapter    paragraph     num_sent  \\\n",
      "count  8054.000000  8054.000000  8054.000000  8054.000000  8054.000000   \n",
      "mean   4026.500000     2.814750    13.135585    18.832878     5.658306   \n",
      "std    2325.133867     1.135303     8.360661    19.136192     5.506097   \n",
      "min       0.000000     1.000000     1.000000     0.000000     1.000000   \n",
      "25%    2013.250000     2.000000     6.000000     6.000000     2.000000   \n",
      "50%    4026.500000     3.000000    12.000000    13.000000     4.000000   \n",
      "75%    6039.750000     4.000000    19.000000    26.000000     7.000000   \n",
      "max    8053.000000     4.000000    33.000000   127.000000    45.000000   \n",
      "\n",
      "       num_interturn  num_intersent     len_sent  num_intrasent  \n",
      "count    8054.000000    8054.000000  8054.000000    8054.000000  \n",
      "mean        0.017631       0.014154    18.519990       0.050037  \n",
      "std         0.131614       0.118135    13.820604       0.332971  \n",
      "min         0.000000       0.000000     1.000000       0.000000  \n",
      "25%         0.000000       0.000000     9.000000       0.000000  \n",
      "50%         0.000000       0.000000    15.000000       0.000000  \n",
      "75%         0.000000       0.000000    25.000000       0.000000  \n",
      "max         1.000000       1.000000   132.000000       6.000000  \n",
      "Unnamed: 0       32429431\n",
      "part                22670\n",
      "chapter            105794\n",
      "paragraph          151680\n",
      "num_sent            45572\n",
      "num_interturn         142\n",
      "num_intersent         114\n",
      "len_sent           149160\n",
      "num_intrasent         403\n",
      "embedded              122\n",
      "dtype: int64\n",
      "Total num_interturn: 142\n",
      "Total num_intersent: 114\n",
      "Sentences containing intrasent 231\n",
      "Total num_intrasent: 403\n",
      "Majority language: maj_lang\n",
      "ru        7856\n",
      "non-ru     146\n",
      "equal       52\n",
      "Name: count, dtype: int64\n",
      "Embedded: embedded\n",
      "False    7932\n",
      "True      122\n",
      "Name: count, dtype: int64\n",
      "cs_Том_3.csv\n",
      "        Unnamed: 0         part      chapter    paragraph     num_sent  \\\n",
      "count  7763.000000  7763.000000  7763.000000  7763.000000  7763.000000   \n",
      "mean   3881.000000     2.120572    17.010176    17.879170     5.670875   \n",
      "std    2241.129403     0.737443     9.683727    16.613909     4.954730   \n",
      "min       0.000000     1.000000     1.000000     0.000000     1.000000   \n",
      "25%    1940.500000     2.000000     9.000000     5.000000     2.000000   \n",
      "50%    3881.000000     2.000000    17.000000    13.000000     4.000000   \n",
      "75%    5821.500000     3.000000    24.000000    25.000000     7.000000   \n",
      "max    7762.000000     3.000000    39.000000    95.000000    27.000000   \n",
      "\n",
      "       num_interturn  num_intersent     len_sent  num_intrasent  \n",
      "count    7763.000000    7763.000000  7763.000000    7763.000000  \n",
      "mean        0.027309       0.021899    19.511658       0.080252  \n",
      "std         0.162993       0.146362    15.645049       0.423632  \n",
      "min         0.000000       0.000000     1.000000       0.000000  \n",
      "25%         0.000000       0.000000     9.000000       0.000000  \n",
      "50%         0.000000       0.000000    15.000000       0.000000  \n",
      "75%         0.000000       0.000000    26.000000       0.000000  \n",
      "max         1.000000       1.000000   287.000000       9.000000  \n",
      "Unnamed: 0       30128203\n",
      "part                16462\n",
      "chapter            132050\n",
      "paragraph          138796\n",
      "num_sent            44023\n",
      "num_interturn         212\n",
      "num_intersent         170\n",
      "len_sent           151469\n",
      "num_intrasent         623\n",
      "embedded              146\n",
      "dtype: int64\n",
      "Total num_interturn: 212\n",
      "Total num_intersent: 170\n",
      "Sentences containing intrasent 369\n",
      "Total num_intrasent: 623\n",
      "Majority language: maj_lang\n",
      "ru        7344\n",
      "non-ru     325\n",
      "equal       94\n",
      "Name: count, dtype: int64\n",
      "Embedded: embedded\n",
      "False    7617\n",
      "True      146\n",
      "Name: count, dtype: int64\n",
      "cs_Том_4.csv\n",
      "        Unnamed: 0         part      chapter    paragraph     num_sent  \\\n",
      "count  4582.000000  4582.000000  4582.000000  4582.000000  4582.000000   \n",
      "mean   2290.500000     2.537102    10.102575    15.378656     5.137931   \n",
      "std    1322.853796     1.176722     5.086713    18.042106     4.639335   \n",
      "min       0.000000     1.000000     1.000000     0.000000     1.000000   \n",
      "25%    1145.250000     1.000000     6.000000     4.000000     2.000000   \n",
      "50%    2290.500000     3.000000    10.000000    10.000000     4.000000   \n",
      "75%    3435.750000     4.000000    14.000000    20.000000     7.000000   \n",
      "max    4581.000000     4.000000    19.000000   116.000000    31.000000   \n",
      "\n",
      "       num_interturn  num_intersent     len_sent  num_intrasent  \n",
      "count    4582.000000    4582.000000  4582.000000    4582.000000  \n",
      "mean        0.027499       0.013968    19.687036       0.060236  \n",
      "std         0.163550       0.117370    15.771613       0.348187  \n",
      "min         0.000000       0.000000     1.000000       0.000000  \n",
      "25%         0.000000       0.000000     9.000000       0.000000  \n",
      "50%         0.000000       0.000000    16.000000       0.000000  \n",
      "75%         0.000000       0.000000    26.000000       0.000000  \n",
      "max         1.000000       1.000000   162.000000       6.000000  \n",
      "Unnamed: 0       10495071\n",
      "part                11625\n",
      "chapter             46290\n",
      "paragraph           70465\n",
      "num_sent            23542\n",
      "num_interturn         126\n",
      "num_intersent          64\n",
      "len_sent            90206\n",
      "num_intrasent         276\n",
      "embedded               74\n",
      "dtype: int64\n",
      "Total num_interturn: 126\n",
      "Total num_intersent: 64\n",
      "Sentences containing intrasent 170\n",
      "Total num_intrasent: 276\n",
      "Majority language: maj_lang\n",
      "ru        4418\n",
      "non-ru     135\n",
      "equal       29\n",
      "Name: count, dtype: int64\n",
      "Embedded: embedded\n",
      "False    4508\n",
      "True       74\n",
      "Name: count, dtype: int64\n",
      "cs_Эпилог.csv\n",
      "        Unnamed: 0         part      chapter    paragraph     num_sent  \\\n",
      "count  1806.000000  1806.000000  1806.000000  1806.000000  1806.000000   \n",
      "mean    902.500000     1.316722     8.816722    15.441307     4.531561   \n",
      "std     521.491611     0.465327     4.471166    11.667918     3.987355   \n",
      "min       0.000000     1.000000     1.000000     0.000000     1.000000   \n",
      "25%     451.250000     1.000000     5.000000     6.000000     2.000000   \n",
      "50%     902.500000     1.000000     9.000000    13.000000     3.000000   \n",
      "75%    1353.750000     2.000000    12.000000    22.000000     6.000000   \n",
      "max    1805.000000     2.000000    16.000000    50.000000    26.000000   \n",
      "\n",
      "       num_interturn  num_intersent     len_sent  num_intrasent  \n",
      "count    1806.000000    1806.000000  1806.000000    1806.000000  \n",
      "mean        0.012182       0.009413    23.171096       0.054817  \n",
      "std         0.109726       0.096590    18.323019       0.353513  \n",
      "min         0.000000       0.000000     1.000000       0.000000  \n",
      "25%         0.000000       0.000000    10.000000       0.000000  \n",
      "50%         0.000000       0.000000    19.000000       0.000000  \n",
      "75%         0.000000       0.000000    30.000000       0.000000  \n",
      "max         1.000000       1.000000   162.000000       6.000000  \n",
      "Unnamed: 0       1629915\n",
      "part                2378\n",
      "chapter            15923\n",
      "paragraph          27887\n",
      "num_sent            8184\n",
      "num_interturn         22\n",
      "num_intersent         17\n",
      "len_sent           41847\n",
      "num_intrasent         99\n",
      "embedded              33\n",
      "dtype: int64\n",
      "Total num_interturn: 22\n",
      "Total num_intersent: 17\n",
      "Sentences containing intrasent 52\n",
      "Total num_intrasent: 99\n",
      "Majority language: maj_lang\n",
      "ru        1791\n",
      "equal       11\n",
      "non-ru       4\n",
      "Name: count, dtype: int64\n",
      "Embedded: embedded\n",
      "False    1773\n",
      "True       33\n",
      "Name: count, dtype: int64\n"
     ]
    }
   ],
   "source": [
    "output_dir = '../outputs/'\n",
    "for f in sorted(os.listdir(output_dir)):\n",
    "    if not f.startswith('cs_'):\n",
    "        continue\n",
    "    df = pd.read_csv(output_dir+f)\n",
    "    print(f)\n",
    "    # description of min, max, mean values\n",
    "    print(df.describe())\n",
    "    print(df.sum(numeric_only=True))\n",
    "    # # sums of different CS types\n",
    "    # deduped_df = df.drop_duplicates(subset=['volume', 'part', 'chapter', 'paragraph'])\n",
    "\n",
    "    # # Summing the columns num_interturn and num_intersent\n",
    "    # total_interturn = deduped_df['num_interturn'].sum()\n",
    "    # total_intersent = deduped_df['num_intersent'].sum()\n",
    "    # total_sentnumber = deduped_df['num_sent'].sum()\n",
    "\n",
    "    # Displaying the sums\n",
    "    print(\"Total num_interturn:\", df['num_interturn'].sum())\n",
    "    print(\"Total num_intersent:\", df['num_intersent'].sum())\n",
    "    print(\"Sentences containing intrasent\", len(df[df['num_intrasent'].apply(lambda x: x > 0)]))\n",
    "    print(\"Total num_intrasent:\", df['num_intrasent'].sum())\n",
    "    print(\"Majority language:\", df['maj_lang'].value_counts())\n",
    "    print(\"Embedded:\", df['embedded'].value_counts())"
   ]
  },
  {
   "cell_type": "code",
   "execution_count": 25,
   "metadata": {},
   "outputs": [
    {
     "data": {
      "text/html": [
       "<div>\n",
       "<style scoped>\n",
       "    .dataframe tbody tr th:only-of-type {\n",
       "        vertical-align: middle;\n",
       "    }\n",
       "\n",
       "    .dataframe tbody tr th {\n",
       "        vertical-align: top;\n",
       "    }\n",
       "\n",
       "    .dataframe thead th {\n",
       "        text-align: right;\n",
       "    }\n",
       "</style>\n",
       "<table border=\"1\" class=\"dataframe\">\n",
       "  <thead>\n",
       "    <tr style=\"text-align: right;\">\n",
       "      <th></th>\n",
       "      <th>Unnamed: 0</th>\n",
       "      <th>volume</th>\n",
       "      <th>part</th>\n",
       "      <th>chapter</th>\n",
       "      <th>paragraph</th>\n",
       "      <th>num_sent</th>\n",
       "      <th>num_interturn</th>\n",
       "      <th>num_intersent</th>\n",
       "      <th>tokens</th>\n",
       "      <th>len_sent</th>\n",
       "      <th>cs</th>\n",
       "      <th>cs_indices</th>\n",
       "      <th>num_intrasent</th>\n",
       "      <th>maj_lang</th>\n",
       "      <th>first_lang</th>\n",
       "      <th>last_lang</th>\n",
       "      <th>embedded</th>\n",
       "    </tr>\n",
       "  </thead>\n",
       "  <tbody>\n",
       "    <tr>\n",
       "      <th>125</th>\n",
       "      <td>125</td>\n",
       "      <td>Том_1</td>\n",
       "      <td>1</td>\n",
       "      <td>1</td>\n",
       "      <td>37</td>\n",
       "      <td>3</td>\n",
       "      <td>1</td>\n",
       "      <td>0</td>\n",
       "      <td>['—', 'Ecoutez', ',', 'chère', 'Annette', ',',...</td>\n",
       "      <td>56</td>\n",
       "      <td>['', 'non-ru', '', 'non-ru', 'non-ru', '', '',...</td>\n",
       "      <td>[7, 25, 34, 37, 44, 45, 47]</td>\n",
       "      <td>7</td>\n",
       "      <td>ru</td>\n",
       "      <td>non-ru</td>\n",
       "      <td>ru</td>\n",
       "      <td>False</td>\n",
       "    </tr>\n",
       "    <tr>\n",
       "      <th>4315</th>\n",
       "      <td>4315</td>\n",
       "      <td>Том_1</td>\n",
       "      <td>2</td>\n",
       "      <td>12</td>\n",
       "      <td>41</td>\n",
       "      <td>5</td>\n",
       "      <td>1</td>\n",
       "      <td>2</td>\n",
       "      <td>['Nous', 'sommes', 'mackés', '.', '—', 'заключ...</td>\n",
       "      <td>27</td>\n",
       "      <td>['non-ru', 'non-ru', 'non-ru', '', '', 'ru', '...</td>\n",
       "      <td>[5, 13, 16, 18, 20, 21, 23]</td>\n",
       "      <td>7</td>\n",
       "      <td>ru</td>\n",
       "      <td>non-ru</td>\n",
       "      <td>ru</td>\n",
       "      <td>False</td>\n",
       "    </tr>\n",
       "  </tbody>\n",
       "</table>\n",
       "</div>"
      ],
      "text/plain": [
       "      Unnamed: 0 volume  part  chapter  paragraph  num_sent  num_interturn  \\\n",
       "125          125  Том_1     1        1         37         3              1   \n",
       "4315        4315  Том_1     2       12         41         5              1   \n",
       "\n",
       "      num_intersent                                             tokens  \\\n",
       "125               0  ['—', 'Ecoutez', ',', 'chère', 'Annette', ',',...   \n",
       "4315              2  ['Nous', 'sommes', 'mackés', '.', '—', 'заключ...   \n",
       "\n",
       "      len_sent                                                 cs  \\\n",
       "125         56  ['', 'non-ru', '', 'non-ru', 'non-ru', '', '',...   \n",
       "4315        27  ['non-ru', 'non-ru', 'non-ru', '', '', 'ru', '...   \n",
       "\n",
       "                       cs_indices  num_intrasent maj_lang first_lang  \\\n",
       "125   [7, 25, 34, 37, 44, 45, 47]              7       ru     non-ru   \n",
       "4315  [5, 13, 16, 18, 20, 21, 23]              7       ru     non-ru   \n",
       "\n",
       "     last_lang  embedded  \n",
       "125         ru     False  \n",
       "4315        ru     False  "
      ]
     },
     "execution_count": 25,
     "metadata": {},
     "output_type": "execute_result"
    }
   ],
   "source": [
    "# display sentences with highest number of intrasent-switches\n",
    "df[df['num_intrasent'] == 7]"
   ]
  },
  {
   "cell_type": "markdown",
   "metadata": {},
   "source": [
    "### Analyze linguistic features"
   ]
  },
  {
   "cell_type": "code",
   "execution_count": 50,
   "metadata": {},
   "outputs": [
    {
     "name": "stdout",
     "output_type": "stream",
     "text": [
      "morph invalid syntax (<unknown>, line 1)\n",
      "lang malformed node or string on line 1: <ast.Name object at 0x7f1077bafbb0>\n",
      "position malformed node or string on line 1: <ast.Name object at 0x7f1077baf910>\n"
     ]
    }
   ],
   "source": [
    "feats = pd.read_csv('../outputs/features.csv')\n",
    "for col in feats.columns:\n",
    "    try:\n",
    "        feats[col] = feats[col].apply(lambda x: ast.literal_eval(x) if isinstance(x, str) else x)\n",
    "    except Exception as e:\n",
    "        print(col, e)\n"
   ]
  },
  {
   "cell_type": "code",
   "execution_count": 49,
   "metadata": {},
   "outputs": [
    {
     "data": {
      "text/plain": [
       "Index(['Unnamed: 0', 'text', 'switch_len', 'pos', 'lemma', 'dep', 'morph',\n",
       "       'lang', 'position'],\n",
       "      dtype='object')"
      ]
     },
     "execution_count": 49,
     "metadata": {},
     "output_type": "execute_result"
    }
   ],
   "source": [
    "feats.columns"
   ]
  },
  {
   "cell_type": "code",
   "execution_count": 51,
   "metadata": {},
   "outputs": [
    {
     "data": {
      "text/html": [
       "<div>\n",
       "<style scoped>\n",
       "    .dataframe tbody tr th:only-of-type {\n",
       "        vertical-align: middle;\n",
       "    }\n",
       "\n",
       "    .dataframe tbody tr th {\n",
       "        vertical-align: top;\n",
       "    }\n",
       "\n",
       "    .dataframe thead th {\n",
       "        text-align: right;\n",
       "    }\n",
       "</style>\n",
       "<table border=\"1\" class=\"dataframe\">\n",
       "  <thead>\n",
       "    <tr style=\"text-align: right;\">\n",
       "      <th></th>\n",
       "      <th>Unnamed: 0</th>\n",
       "      <th>switch_len</th>\n",
       "    </tr>\n",
       "  </thead>\n",
       "  <tbody>\n",
       "    <tr>\n",
       "      <th>count</th>\n",
       "      <td>1273.000000</td>\n",
       "      <td>1273.000000</td>\n",
       "    </tr>\n",
       "    <tr>\n",
       "      <th>mean</th>\n",
       "      <td>636.000000</td>\n",
       "      <td>9.378633</td>\n",
       "    </tr>\n",
       "    <tr>\n",
       "      <th>std</th>\n",
       "      <td>367.627756</td>\n",
       "      <td>9.152426</td>\n",
       "    </tr>\n",
       "    <tr>\n",
       "      <th>min</th>\n",
       "      <td>0.000000</td>\n",
       "      <td>1.000000</td>\n",
       "    </tr>\n",
       "    <tr>\n",
       "      <th>25%</th>\n",
       "      <td>318.000000</td>\n",
       "      <td>3.000000</td>\n",
       "    </tr>\n",
       "    <tr>\n",
       "      <th>50%</th>\n",
       "      <td>636.000000</td>\n",
       "      <td>6.000000</td>\n",
       "    </tr>\n",
       "    <tr>\n",
       "      <th>75%</th>\n",
       "      <td>954.000000</td>\n",
       "      <td>12.000000</td>\n",
       "    </tr>\n",
       "    <tr>\n",
       "      <th>max</th>\n",
       "      <td>1272.000000</td>\n",
       "      <td>85.000000</td>\n",
       "    </tr>\n",
       "  </tbody>\n",
       "</table>\n",
       "</div>"
      ],
      "text/plain": [
       "        Unnamed: 0   switch_len\n",
       "count  1273.000000  1273.000000\n",
       "mean    636.000000     9.378633\n",
       "std     367.627756     9.152426\n",
       "min       0.000000     1.000000\n",
       "25%     318.000000     3.000000\n",
       "50%     636.000000     6.000000\n",
       "75%     954.000000    12.000000\n",
       "max    1272.000000    85.000000"
      ]
     },
     "execution_count": 51,
     "metadata": {},
     "output_type": "execute_result"
    }
   ],
   "source": [
    "feats.describe()"
   ]
  },
  {
   "cell_type": "code",
   "execution_count": 64,
   "metadata": {},
   "outputs": [
    {
     "data": {
      "text/plain": [
       "lang\n",
       "ru    698\n",
       "fr    427\n",
       "en     29\n",
       "de     22\n",
       "pt     15\n",
       "no     11\n",
       "ca      9\n",
       "et      9\n",
       "tl      8\n",
       "es      8\n",
       "it      8\n",
       "ro      5\n",
       "af      5\n",
       "id      3\n",
       "vi      3\n",
       "nl      2\n",
       "hu      2\n",
       "sl      2\n",
       "fi      2\n",
       "hr      2\n",
       "tr      1\n",
       "pl      1\n",
       "lv      1\n",
       "Name: count, dtype: int64"
      ]
     },
     "execution_count": 64,
     "metadata": {},
     "output_type": "execute_result"
    }
   ],
   "source": [
    "feats['lang'].value_counts()"
   ]
  },
  {
   "cell_type": "code",
   "execution_count": 65,
   "metadata": {},
   "outputs": [
    {
     "data": {
      "text/plain": [
       "switch_len\n",
       "3     187\n",
       "4     115\n",
       "2     114\n",
       "6      94\n",
       "5      92\n",
       "7      88\n",
       "11     60\n",
       "8      58\n",
       "1      49\n",
       "9      47\n",
       "10     38\n",
       "13     35\n",
       "14     33\n",
       "12     28\n",
       "18     27\n",
       "16     25\n",
       "15     23\n",
       "25     12\n",
       "17     12\n",
       "22     12\n",
       "19     10\n",
       "21     10\n",
       "31      9\n",
       "20      8\n",
       "23      8\n",
       "28      7\n",
       "26      7\n",
       "30      6\n",
       "24      6\n",
       "34      5\n",
       "32      5\n",
       "29      5\n",
       "36      5\n",
       "35      5\n",
       "39      4\n",
       "49      3\n",
       "27      3\n",
       "37      3\n",
       "47      2\n",
       "59      2\n",
       "60      1\n",
       "54      1\n",
       "33      1\n",
       "46      1\n",
       "56      1\n",
       "38      1\n",
       "48      1\n",
       "58      1\n",
       "40      1\n",
       "42      1\n",
       "85      1\n",
       "Name: count, dtype: int64"
      ]
     },
     "execution_count": 65,
     "metadata": {},
     "output_type": "execute_result"
    }
   ],
   "source": [
    "feats['switch_len'].value_counts()"
   ]
  },
  {
   "cell_type": "code",
   "execution_count": 54,
   "metadata": {},
   "outputs": [
    {
     "data": {
      "text/plain": [
       "pos\n",
       "[PROPN]    18\n",
       "[NOUN]      9\n",
       "[DET]       6\n",
       "[CCONJ]     5\n",
       "[ADP]       4\n",
       "[ADJ]       4\n",
       "[VERB]      2\n",
       "[PRON]      1\n",
       "Name: count, dtype: int64"
      ]
     },
     "execution_count": 54,
     "metadata": {},
     "output_type": "execute_result"
    }
   ],
   "source": [
    "feats[feats['switch_len'] == 1]['pos'].value_counts()"
   ]
  },
  {
   "cell_type": "code",
   "execution_count": 55,
   "metadata": {},
   "outputs": [
    {
     "data": {
      "text/plain": [
       "dep\n",
       "[ROOT]    49\n",
       "Name: count, dtype: int64"
      ]
     },
     "execution_count": 55,
     "metadata": {},
     "output_type": "execute_result"
    }
   ],
   "source": [
    "feats[feats['switch_len'] == 1]['dep'].value_counts()"
   ]
  },
  {
   "cell_type": "code",
   "execution_count": 56,
   "metadata": {},
   "outputs": [
    {
     "data": {
      "text/plain": [
       "lang\n",
       "ru    22\n",
       "fr    10\n",
       "ca     4\n",
       "et     2\n",
       "pt     2\n",
       "no     2\n",
       "en     2\n",
       "es     1\n",
       "hr     1\n",
       "it     1\n",
       "tl     1\n",
       "id     1\n",
       "Name: count, dtype: int64"
      ]
     },
     "execution_count": 56,
     "metadata": {},
     "output_type": "execute_result"
    }
   ],
   "source": [
    "feats[feats['switch_len'] == 1]['lang'].value_counts()"
   ]
  },
  {
   "cell_type": "code",
   "execution_count": 62,
   "metadata": {},
   "outputs": [
    {
     "data": {
      "text/plain": [
       "pos\n",
       "[PROPN, PUNCT]    7\n",
       "[NOUN, PUNCT]     4\n",
       "[VERB, PUNCT]     2\n",
       "[ADP, PROPN]      2\n",
       "[PART, PUNCT]     2\n",
       "[PUNCT, PROPN]    2\n",
       "[PUNCT, ADP]      1\n",
       "[ADJ, PUNCT]      1\n",
       "[ADV, PUNCT]      1\n",
       "[CCONJ, ADV]      1\n",
       "[VERB, CCONJ]     1\n",
       "[PUNCT, NUM]      1\n",
       "[ADJ, PROPN]      1\n",
       "[INTJ, PUNCT]     1\n",
       "[DET, PUNCT]      1\n",
       "[CCONJ, ADJ]      1\n",
       "[VERB, ADJ]       1\n",
       "[PUNCT, PART]     1\n",
       "[VERB, ADP]       1\n",
       "Name: count, dtype: int64"
      ]
     },
     "execution_count": 62,
     "metadata": {},
     "output_type": "execute_result"
    }
   ],
   "source": [
    "feats[(feats['switch_len'] == 2) & (feats['lang'] == 'ru')]['pos'].value_counts()"
   ]
  },
  {
   "cell_type": "code",
   "execution_count": 63,
   "metadata": {},
   "outputs": [
    {
     "data": {
      "text/plain": [
       "pos\n",
       "[NOUN, PROPN]        17\n",
       "[PROPN, PUNCT]       16\n",
       "[NOUN, PUNCT]         6\n",
       "[DET, NOUN]           6\n",
       "[ADJ, PUNCT]          2\n",
       "[NOUN, VERB, ADP]     1\n",
       "[PUNCT, ADJ]          1\n",
       "[PRON, PROPN]         1\n",
       "[AUX, PUNCT]          1\n",
       "[VERB, PUNCT]         1\n",
       "[ADV, VERB]           1\n",
       "Name: count, dtype: int64"
      ]
     },
     "execution_count": 63,
     "metadata": {},
     "output_type": "execute_result"
    }
   ],
   "source": [
    "feats[(feats['switch_len'] == 2) & (feats['lang'] == 'fr')]['pos'].value_counts()"
   ]
  }
 ],
 "metadata": {
  "kernelspec": {
   "display_name": ".venv",
   "language": "python",
   "name": "python3"
  },
  "language_info": {
   "codemirror_mode": {
    "name": "ipython",
    "version": 3
   },
   "file_extension": ".py",
   "mimetype": "text/x-python",
   "name": "python",
   "nbconvert_exporter": "python",
   "pygments_lexer": "ipython3",
   "version": "3.10.12"
  }
 },
 "nbformat": 4,
 "nbformat_minor": 2
}
