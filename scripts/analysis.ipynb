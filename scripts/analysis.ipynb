{
 "cells": [
  {
   "cell_type": "markdown",
   "metadata": {},
   "source": [
    "# Analysis of Code Switching in Vojna i Mir"
   ]
  },
  {
   "cell_type": "code",
   "execution_count": 13,
   "metadata": {},
   "outputs": [],
   "source": [
    "import os\n",
    "import pandas as pd"
   ]
  },
  {
   "cell_type": "markdown",
   "metadata": {},
   "source": [
    "### Analyze CS and direct speech"
   ]
  },
  {
   "cell_type": "code",
   "execution_count": 25,
   "metadata": {},
   "outputs": [
    {
     "data": {
      "text/html": [
       "<div>\n",
       "<style scoped>\n",
       "    .dataframe tbody tr th:only-of-type {\n",
       "        vertical-align: middle;\n",
       "    }\n",
       "\n",
       "    .dataframe tbody tr th {\n",
       "        vertical-align: top;\n",
       "    }\n",
       "\n",
       "    .dataframe thead th {\n",
       "        text-align: right;\n",
       "    }\n",
       "</style>\n",
       "<table border=\"1\" class=\"dataframe\">\n",
       "  <thead>\n",
       "    <tr style=\"text-align: right;\">\n",
       "      <th></th>\n",
       "      <th>Unnamed: 0</th>\n",
       "      <th>volume</th>\n",
       "      <th>part</th>\n",
       "      <th>chapter</th>\n",
       "      <th>paragraph</th>\n",
       "      <th>num_sent</th>\n",
       "      <th>num_interturn</th>\n",
       "      <th>num_intersent</th>\n",
       "      <th>tokens</th>\n",
       "      <th>len_sent</th>\n",
       "      <th>cs</th>\n",
       "      <th>cs_indices</th>\n",
       "      <th>num_intrasent</th>\n",
       "      <th>maj_lang</th>\n",
       "      <th>first_lang</th>\n",
       "      <th>last_lang</th>\n",
       "      <th>embedded</th>\n",
       "    </tr>\n",
       "  </thead>\n",
       "  <tbody>\n",
       "    <tr>\n",
       "      <th>125</th>\n",
       "      <td>125</td>\n",
       "      <td>Том_1</td>\n",
       "      <td>1</td>\n",
       "      <td>1</td>\n",
       "      <td>37</td>\n",
       "      <td>3</td>\n",
       "      <td>1</td>\n",
       "      <td>0</td>\n",
       "      <td>['—', 'Ecoutez', ',', 'chère', 'Annette', ',',...</td>\n",
       "      <td>56</td>\n",
       "      <td>['', 'non-ru', '', 'non-ru', 'non-ru', '', '',...</td>\n",
       "      <td>[7, 25, 34, 37, 44, 45, 47]</td>\n",
       "      <td>7</td>\n",
       "      <td>ru</td>\n",
       "      <td>non-ru</td>\n",
       "      <td>ru</td>\n",
       "      <td>False</td>\n",
       "    </tr>\n",
       "    <tr>\n",
       "      <th>4315</th>\n",
       "      <td>4315</td>\n",
       "      <td>Том_1</td>\n",
       "      <td>2</td>\n",
       "      <td>12</td>\n",
       "      <td>41</td>\n",
       "      <td>5</td>\n",
       "      <td>1</td>\n",
       "      <td>2</td>\n",
       "      <td>['Nous', 'sommes', 'mackés', '.', '—', 'заключ...</td>\n",
       "      <td>27</td>\n",
       "      <td>['non-ru', 'non-ru', 'non-ru', '', '', 'ru', '...</td>\n",
       "      <td>[5, 13, 16, 18, 20, 21, 23]</td>\n",
       "      <td>7</td>\n",
       "      <td>ru</td>\n",
       "      <td>non-ru</td>\n",
       "      <td>ru</td>\n",
       "      <td>False</td>\n",
       "    </tr>\n",
       "  </tbody>\n",
       "</table>\n",
       "</div>"
      ],
      "text/plain": [
       "      Unnamed: 0 volume  part  chapter  paragraph  num_sent  num_interturn  \\\n",
       "125          125  Том_1     1        1         37         3              1   \n",
       "4315        4315  Том_1     2       12         41         5              1   \n",
       "\n",
       "      num_intersent                                             tokens  \\\n",
       "125               0  ['—', 'Ecoutez', ',', 'chère', 'Annette', ',',...   \n",
       "4315              2  ['Nous', 'sommes', 'mackés', '.', '—', 'заключ...   \n",
       "\n",
       "      len_sent                                                 cs  \\\n",
       "125         56  ['', 'non-ru', '', 'non-ru', 'non-ru', '', '',...   \n",
       "4315        27  ['non-ru', 'non-ru', 'non-ru', '', '', 'ru', '...   \n",
       "\n",
       "                       cs_indices  num_intrasent maj_lang first_lang  \\\n",
       "125   [7, 25, 34, 37, 44, 45, 47]              7       ru     non-ru   \n",
       "4315  [5, 13, 16, 18, 20, 21, 23]              7       ru     non-ru   \n",
       "\n",
       "     last_lang  embedded  \n",
       "125         ru     False  \n",
       "4315        ru     False  "
      ]
     },
     "execution_count": 25,
     "metadata": {},
     "output_type": "execute_result"
    }
   ],
   "source": [
    "# display sentences with highest number of intrasent-switches\n",
    "df[df['num_intrasent'] == 7]"
   ]
  },
  {
   "cell_type": "code",
   "execution_count": 30,
   "metadata": {},
   "outputs": [
    {
     "data": {
      "text/plain": [
       "0       2\n",
       "1       2\n",
       "2       2\n",
       "3       2\n",
       "4       2\n",
       "       ..\n",
       "7608    0\n",
       "7609    0\n",
       "7610    0\n",
       "7611    0\n",
       "7612    0\n",
       "Name: num_intersent, Length: 7613, dtype: int64"
      ]
     },
     "execution_count": 30,
     "metadata": {},
     "output_type": "execute_result"
    }
   ],
   "source": [
    "df.num_intersent"
   ]
  },
  {
   "cell_type": "code",
   "execution_count": 29,
   "metadata": {},
   "outputs": [
    {
     "name": "stdout",
     "output_type": "stream",
     "text": [
      "cs_Том_1.csv\n",
      "        Unnamed: 0         part      chapter    paragraph     num_sent  \\\n",
      "count  7613.000000  7613.000000  7613.000000  7613.000000  7613.000000   \n",
      "mean   3806.000000     1.929594    10.861815    26.316170     5.255353   \n",
      "std    2197.828132     0.824311     6.742355    22.462124     5.301667   \n",
      "min       0.000000     1.000000     1.000000     0.000000     1.000000   \n",
      "25%    1903.000000     1.000000     5.000000     9.000000     2.000000   \n",
      "50%    3806.000000     2.000000    10.000000    22.000000     4.000000   \n",
      "75%    5709.000000     3.000000    17.000000    38.000000     7.000000   \n",
      "max    7612.000000     3.000000    24.000000   129.000000    33.000000   \n",
      "\n",
      "       num_interturn  num_intersent     len_sent  num_intrasent  \n",
      "count    7613.000000    7613.000000  7613.000000    7613.000000  \n",
      "mean        0.999343       0.174307    17.946013       0.107185  \n",
      "std         0.025621       0.611427    13.842447       0.467062  \n",
      "min         0.000000       0.000000     1.000000       0.000000  \n",
      "25%         1.000000       0.000000     8.000000       0.000000  \n",
      "50%         1.000000       0.000000    14.000000       0.000000  \n",
      "75%         1.000000       0.000000    24.000000       0.000000  \n",
      "max         1.000000       4.000000   126.000000       7.000000  \n",
      "Unnamed: 0       28975078\n",
      "part                14690\n",
      "chapter             82691\n",
      "paragraph          200345\n",
      "num_sent            40009\n",
      "num_interturn        7608\n",
      "num_intersent        1327\n",
      "len_sent           136623\n",
      "num_intrasent         816\n",
      "embedded              211\n",
      "dtype: int64\n",
      "Total num_interturn: 3004\n",
      "Total num_intersent: 210\n",
      "Sentences containing intrasent 491\n",
      "Total num_intrasent: 816\n",
      "Majority language: maj_lang\n",
      "ru        7169\n",
      "non-ru     400\n",
      "equal       44\n",
      "Name: count, dtype: int64\n",
      "Embedded: embedded\n",
      "False    7402\n",
      "True      211\n",
      "Name: count, dtype: int64\n"
     ]
    }
   ],
   "source": [
    "output_dir = '../outputs/'\n",
    "for f in sorted(os.listdir(output_dir)):\n",
    "    df = pd.read_csv(output_dir+f)\n",
    "    print(f)\n",
    "    # description of min, max, mean values\n",
    "    print(df.describe())\n",
    "    print(df.sum(numeric_only=True))\n",
    "    # sums of different CS types\n",
    "    deduped_df = df.drop_duplicates(subset=['volume', 'part', 'chapter', 'paragraph'])\n",
    "\n",
    "    # Summing the columns num_interturn and num_intersent\n",
    "    total_interturn = deduped_df['num_interturn'].sum()\n",
    "    total_intersent = deduped_df['num_intersent'].sum()\n",
    "    total_sentnumber = deduped_df['num_sent'].sum()\n",
    "\n",
    "    # Displaying the sums\n",
    "    print(\"Total num_interturn:\", total_interturn)\n",
    "    print(\"Total num_intersent:\", total_intersent)\n",
    "    print(\"Sentences containing intrasent\", len(df[df['num_intrasent'].apply(lambda x: x > 0)]))\n",
    "    print(\"Total num_intrasent:\", df['num_intrasent'].sum())\n",
    "    print(\"Majority language:\", df['maj_lang'].value_counts())\n",
    "    print(\"Embedded:\", df['embedded'].value_counts())\n",
    "    break"
   ]
  },
  {
   "cell_type": "code",
   "execution_count": 21,
   "metadata": {},
   "outputs": [
    {
     "data": {
      "text/plain": [
       "57957769"
      ]
     },
     "execution_count": 21,
     "metadata": {},
     "output_type": "execute_result"
    }
   ],
   "source": []
  }
 ],
 "metadata": {
  "kernelspec": {
   "display_name": ".venv",
   "language": "python",
   "name": "python3"
  },
  "language_info": {
   "codemirror_mode": {
    "name": "ipython",
    "version": 3
   },
   "file_extension": ".py",
   "mimetype": "text/x-python",
   "name": "python",
   "nbconvert_exporter": "python",
   "pygments_lexer": "ipython3",
   "version": "3.10.12"
  }
 },
 "nbformat": 4,
 "nbformat_minor": 2
}
